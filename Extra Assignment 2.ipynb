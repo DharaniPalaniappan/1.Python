{
 "cells": [
  {
   "cell_type": "code",
   "execution_count": 3,
   "id": "4e05fcc3",
   "metadata": {},
   "outputs": [
    {
     "name": "stdout",
     "output_type": "stream",
     "text": [
      "0\n",
      "1\n",
      "2\n",
      "3\n",
      "4\n",
      "5\n",
      "6\n",
      "7\n",
      "8\n",
      "9\n",
      "10\n",
      "11\n",
      "12\n",
      "13\n",
      "14\n",
      "15\n",
      "16\n",
      "17\n",
      "18\n",
      "19\n"
     ]
    }
   ],
   "source": [
    "for num in range(0,20):\n",
    " print(num)"
   ]
  },
  {
   "cell_type": "code",
   "execution_count": 4,
   "id": "4e8868cc",
   "metadata": {},
   "outputs": [
    {
     "name": "stdout",
     "output_type": "stream",
     "text": [
      "10\n",
      "11\n",
      "12\n",
      "13\n",
      "14\n",
      "15\n",
      "16\n",
      "17\n",
      "18\n",
      "19\n"
     ]
    }
   ],
   "source": [
    "for num in range(10,20):\n",
    " print(num)"
   ]
  },
  {
   "cell_type": "code",
   "execution_count": 5,
   "id": "37757dcf",
   "metadata": {},
   "outputs": [
    {
     "name": "stdout",
     "output_type": "stream",
     "text": [
      "number of item in the list2: 7\n"
     ]
    }
   ],
   "source": [
    "list2 = [10,20,14,55,43,87,76]\n",
    "print(\"number of item in the list2:\",len(list2))"
   ]
  },
  {
   "cell_type": "code",
   "execution_count": 6,
   "id": "07596910",
   "metadata": {},
   "outputs": [
    {
     "name": "stdout",
     "output_type": "stream",
     "text": [
      "A\n",
      "r\n",
      "t\n",
      "i\n",
      "f\n",
      "i\n",
      "c\n",
      "i\n",
      "a\n",
      "l\n",
      " \n",
      "I\n",
      "n\n",
      "t\n",
      "e\n",
      "l\n",
      "l\n",
      "i\n",
      "g\n",
      "e\n",
      "n\n",
      "c\n",
      "e\n"
     ]
    }
   ],
   "source": [
    "n1 = \"Artificial Intelligence\"\n",
    "for i in n1:\n",
    "    print(i)"
   ]
  },
  {
   "cell_type": "code",
   "execution_count": 13,
   "id": "6557eace",
   "metadata": {},
   "outputs": [
    {
     "name": "stdout",
     "output_type": "stream",
     "text": [
      "(1, 'Welcome', 2, 'Hope')\n"
     ]
    }
   ],
   "source": [
    "Tup = (1,\"Welcome\",2,\"Hope\")\n",
    "print(Tup)"
   ]
  },
  {
   "cell_type": "code",
   "execution_count": 14,
   "id": "25bdeaf5",
   "metadata": {},
   "outputs": [
    {
     "name": "stdout",
     "output_type": "stream",
     "text": [
      "((0, 1, 2, 3), ('Python', 'Hope'))\n"
     ]
    }
   ],
   "source": [
    "Tuple1 = (0,1,2,3)\n",
    "Tuple2 = (\"Python\",\"Hope\")\n",
    "Tuple3 = Tuple1,Tuple2\n",
    "print(Tuple3)"
   ]
  },
  {
   "cell_type": "code",
   "execution_count": 25,
   "id": "2ab5323d",
   "metadata": {},
   "outputs": [
    {
     "name": "stdout",
     "output_type": "stream",
     "text": [
      "19 is odd\n",
      "25 is odd\n",
      "1 is odd\n"
     ]
    }
   ],
   "source": [
    "lists = [20,10,16,19,25,1,276,188]\n",
    "for i in lists:\n",
    "    if(i%2==1):\n",
    "     print(i ,\"is odd\")"
   ]
  },
  {
   "cell_type": "code",
   "execution_count": 17,
   "id": "042d939b",
   "metadata": {},
   "outputs": [
    {
     "name": "stdout",
     "output_type": "stream",
     "text": [
      "20 is Even\n",
      "10 is Even\n",
      "16 is Even\n",
      "276 is Even\n",
      "188 is Even\n"
     ]
    }
   ],
   "source": [
    "lists = [20,10,16,19,25,1,276,188]\n",
    "for i in lists:\n",
    "    if(i%2==0):\n",
    "     print(i ,\"is Even\")"
   ]
  },
  {
   "cell_type": "code",
   "execution_count": 24,
   "id": "7a8ef4a1",
   "metadata": {},
   "outputs": [
    {
     "name": "stdout",
     "output_type": "stream",
     "text": [
      "-your name- \n",
      "-Your profession- \n",
      "-Your Age-\n"
     ]
    }
   ],
   "source": [
    "print(\"-your name-\",\"\\n-Your profession-\",\"\\n-Your Age-\")"
   ]
  },
  {
   "cell_type": "code",
   "execution_count": null,
   "id": "6aca9f03",
   "metadata": {},
   "outputs": [],
   "source": []
  }
 ],
 "metadata": {
  "kernelspec": {
   "display_name": "Python 3 (ipykernel)",
   "language": "python",
   "name": "python3"
  },
  "language_info": {
   "codemirror_mode": {
    "name": "ipython",
    "version": 3
   },
   "file_extension": ".py",
   "mimetype": "text/x-python",
   "name": "python",
   "nbconvert_exporter": "python",
   "pygments_lexer": "ipython3",
   "version": "3.11.5"
  }
 },
 "nbformat": 4,
 "nbformat_minor": 5
}
