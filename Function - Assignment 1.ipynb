{
 "cells": [
  {
   "cell_type": "code",
   "execution_count": 14,
   "id": "9e5ee911",
   "metadata": {},
   "outputs": [],
   "source": [
    "\n",
    "\n",
    "def SubfieldsInAISubfields():\n",
    "    subfields = [\"Machine Learning\",\"Neural Networks\",\"Vision\",\"Robotics\",\"Speech Processing\",\"Natural Language Processing\"]\n",
    "    print(\"Sub-fields in AI are:\")\n",
    "    for a in subfields:\n",
    "       \n",
    "        print(a)\n",
    "    \n",
    "    "
   ]
  },
  {
   "cell_type": "code",
   "execution_count": 15,
   "id": "01279511",
   "metadata": {},
   "outputs": [
    {
     "name": "stdout",
     "output_type": "stream",
     "text": [
      "Sub-fields in AI are:\n",
      "Machine Learning\n",
      "Neural Networks\n",
      "Vision\n",
      "Robotics\n",
      "Speech Processing\n",
      "Natural Language Processing\n"
     ]
    }
   ],
   "source": [
    "SubfieldsInAISubfields()"
   ]
  },
  {
   "cell_type": "code",
   "execution_count": 18,
   "id": "512f34d8",
   "metadata": {},
   "outputs": [],
   "source": [
    "\n",
    "def OddEven():\n",
    "    if((num%2)==0):\n",
    "        print(num,\" is Even number\")\n",
    "    else:\n",
    "        print(num,\" is Odd number\")\n",
    "   \n",
    "  "
   ]
  },
  {
   "cell_type": "code",
   "execution_count": 19,
   "id": "f15c184d",
   "metadata": {},
   "outputs": [
    {
     "name": "stdout",
     "output_type": "stream",
     "text": [
      "enter a number :52452\n",
      "52452  is Even number\n"
     ]
    }
   ],
   "source": [
    "num = int(input(\"enter a number :\"))\n",
    "OddEven()\n"
   ]
  },
  {
   "cell_type": "code",
   "execution_count": 26,
   "id": "11fcab2e",
   "metadata": {},
   "outputs": [],
   "source": [
    " #Create a function that tells elegibility of marriage for male and female according to thei\n",
    "#r age limit like 21 for male and 18 for female\n",
    "\n",
    "\n",
    "def Eligible():\n",
    "    if(Gender == \"Male\" or Gender == \"M\"):\n",
    "        if(Age >=21):\n",
    "            print(\"Eligible\")\n",
    "        else:\n",
    "            print(\"Not eligible\")\n",
    "    elif(Gender==\"Female\" or Gender == \"F\"):\n",
    "        if(Age>=18):\n",
    "            print(\"Eligible\")\n",
    "        else:\n",
    "            print(\"Not eligible\")\n",
    "   \n",
    "  "
   ]
  },
  {
   "cell_type": "code",
   "execution_count": 30,
   "id": "072a346b",
   "metadata": {},
   "outputs": [
    {
     "name": "stdout",
     "output_type": "stream",
     "text": [
      "Enter a Gender :Male\n",
      "Enter a Age :20\n",
      "Not eligible\n"
     ]
    }
   ],
   "source": [
    "Gender = input(\"Enter a Gender :\")\n",
    "Age = int(input(\"Enter a Age :\"))\n",
    "Eligible()"
   ]
  },
  {
   "cell_type": "code",
   "execution_count": 10,
   "id": "36b9040a",
   "metadata": {},
   "outputs": [],
   "source": [
    "# calculate the percentage of your 10th mark\n",
    "\n",
    "\n",
    "def percentage():\n",
    "    Total = a+b+c+d+e\n",
    "    print(\"Total=\",Total)\n",
    "    Perc = (Total/500)*100\n",
    "    print(\"Percentage=\",Perc)\n",
    "    "
   ]
  },
  {
   "cell_type": "code",
   "execution_count": 11,
   "id": "195be72c",
   "metadata": {},
   "outputs": [
    {
     "name": "stdout",
     "output_type": "stream",
     "text": [
      "Subject1=98\n",
      "Subject2=87\n",
      "Subject3=95\n",
      "Subject4=95\n",
      "Subject5=93\n",
      "Total= 468\n",
      "Percentage= 93.60000000000001\n"
     ]
    }
   ],
   "source": [
    "a = int(input(\"Subject1=\"))\n",
    "b = int(input(\"Subject2=\"))\n",
    "c = int(input(\"Subject3=\"))\n",
    "d = int(input(\"Subject4=\"))\n",
    "e = int(input(\"Subject5=\"))\n",
    "percentage()"
   ]
  },
  {
   "cell_type": "code",
   "execution_count": 14,
   "id": "f2ea0f46",
   "metadata": {},
   "outputs": [],
   "source": [
    "def triangle():\n",
    "    a = int(input(\"Height:\"))\n",
    "    b = int(input(\"Breadth:\"))\n",
    "    print(\"Area formula: (Height*Breadth)/2\")\n",
    "    Area = (a*b)/2\n",
    "    print(\"Area of Triangle:\",Area)\n",
    "    H1 = int(input(\"Height1:\"))\n",
    "    H2 = int(input(\"Height2:\"))\n",
    "    Br = int(input(\"Breadth:\"))\n",
    "    print(\"Perimeter formula: Height1+Height2+Breadth\")\n",
    "    Perimeter = H1+H2+Br\n",
    "    print(\"Perimeter of Triangle:\",Perimeter)"
   ]
  },
  {
   "cell_type": "code",
   "execution_count": 15,
   "id": "ac001170",
   "metadata": {},
   "outputs": [
    {
     "name": "stdout",
     "output_type": "stream",
     "text": [
      "Height:32\n",
      "Breadth:34\n",
      "Area formula: (Height*Breadth)/2\n",
      "Area of Triangle: 544.0\n",
      "Height1:2\n",
      "Height2:4\n",
      "Breadth:4\n",
      "Perimeter formula: Height1+Height2+Breadth\n",
      "Perimeter of Triangle: 10\n"
     ]
    }
   ],
   "source": [
    "\n",
    "triangle()"
   ]
  },
  {
   "cell_type": "code",
   "execution_count": null,
   "id": "93e49d12",
   "metadata": {},
   "outputs": [],
   "source": []
  }
 ],
 "metadata": {
  "kernelspec": {
   "display_name": "Python 3 (ipykernel)",
   "language": "python",
   "name": "python3"
  },
  "language_info": {
   "codemirror_mode": {
    "name": "ipython",
    "version": 3
   },
   "file_extension": ".py",
   "mimetype": "text/x-python",
   "name": "python",
   "nbconvert_exporter": "python",
   "pygments_lexer": "ipython3",
   "version": "3.11.5"
  }
 },
 "nbformat": 4,
 "nbformat_minor": 5
}
