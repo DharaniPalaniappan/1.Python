{
 "cells": [
  {
   "cell_type": "code",
   "execution_count": 4,
   "id": "4359fcec",
   "metadata": {},
   "outputs": [],
   "source": [
    "class age():\n",
    "    def agecal():\n",
    "        age = int(input(\"Enter you age\"))\n",
    "        if(age<18):\n",
    "           print(\"childrens\")\n",
    "           message = \"Children\"\n",
    "        elif(age<50):\n",
    "           print(\"Adults\",)\n",
    "           message = \"Adult\"\n",
    "        else:\n",
    "           print(\"Seniors\")\n",
    "           message = \"Senior\"\n",
    "        return message\n",
    "    def Eligible():\n",
    "        Gender = input(\"Enter a Gender :\")\n",
    "        Age = int(input(\"Enter a Age :\"))\n",
    "        if(Gender == \"Male\" or Gender == \"M\"):\n",
    "            if(Age >=21):\n",
    "                print(\"Eligible\")\n",
    "            else:\n",
    "                print(\"Not eligible\")\n",
    "        elif(Gender==\"Female\" or Gender == \"F\"):\n",
    "            if(Age>=18):\n",
    "                print(\"Eligible\")\n",
    "            else:\n",
    "                print(\"Not eligible\")\n",
    "\n",
    "  \n"
   ]
  },
  {
   "cell_type": "code",
   "execution_count": 6,
   "id": "c75dea2a",
   "metadata": {},
   "outputs": [
    {
     "name": "stdout",
     "output_type": "stream",
     "text": [
      "Enter you age35\n",
      "Adults\n",
      "Enter a Gender :Male\n",
      "Enter a Age :35\n",
      "Eligible\n"
     ]
    }
   ],
   "source": [
    "age.agecal()\n",
    "age.Eligible()"
   ]
  },
  {
   "cell_type": "code",
   "execution_count": null,
   "id": "5d4de6c0",
   "metadata": {},
   "outputs": [],
   "source": []
  }
 ],
 "metadata": {
  "kernelspec": {
   "display_name": "Python 3 (ipykernel)",
   "language": "python",
   "name": "python3"
  },
  "language_info": {
   "codemirror_mode": {
    "name": "ipython",
    "version": 3
   },
   "file_extension": ".py",
   "mimetype": "text/x-python",
   "name": "python",
   "nbconvert_exporter": "python",
   "pygments_lexer": "ipython3",
   "version": "3.11.5"
  }
 },
 "nbformat": 4,
 "nbformat_minor": 5
}
