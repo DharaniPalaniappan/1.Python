{
 "cells": [
  {
   "cell_type": "code",
   "execution_count": 50,
   "id": "08ddf562",
   "metadata": {},
   "outputs": [],
   "source": [
    "def agecal():\n",
    "    age = int(input(\"Enter you age\"))\n",
    "    if(age<18):\n",
    "       print(\"childrens\")\n",
    "       message = \"Children\"\n",
    "    elif(age<50):\n",
    "       print(\"Adults\",)\n",
    "       message = \"Adult\"\n",
    "    else:\n",
    "       print(\"Seniors\")\n",
    "       message = \"Senior\"\n",
    "    return message\n"
   ]
  },
  {
   "cell_type": "code",
   "execution_count": 51,
   "id": "1fe530d5",
   "metadata": {},
   "outputs": [
    {
     "name": "stdout",
     "output_type": "stream",
     "text": [
      "Enter you age12\n",
      "childrens\n",
      "Hi Children\n"
     ]
    }
   ],
   "source": [
    "result = agecal()  \n",
    "if (result == \"Children\" ):\n",
    "    print(\"Hi Children\")\n",
    "elif(result == \"Adult\"):\n",
    "    print(\"Hi Adult\")\n",
    "else:\n",
    "    print(\"Hi Senior\")\n",
    " "
   ]
  },
  {
   "cell_type": "code",
   "execution_count": 52,
   "id": "28811bff",
   "metadata": {},
   "outputs": [
    {
     "name": "stdout",
     "output_type": "stream",
     "text": [
      "Children\n"
     ]
    }
   ],
   "source": [
    "   print(result)"
   ]
  },
  {
   "cell_type": "code",
   "execution_count": null,
   "id": "c3328f10",
   "metadata": {},
   "outputs": [],
   "source": []
  }
 ],
 "metadata": {
  "kernelspec": {
   "display_name": "Python 3 (ipykernel)",
   "language": "python",
   "name": "python3"
  },
  "language_info": {
   "codemirror_mode": {
    "name": "ipython",
    "version": 3
   },
   "file_extension": ".py",
   "mimetype": "text/x-python",
   "name": "python",
   "nbconvert_exporter": "python",
   "pygments_lexer": "ipython3",
   "version": "3.11.5"
  }
 },
 "nbformat": 4,
 "nbformat_minor": 5
}
