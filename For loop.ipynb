{
 "cells": [
  {
   "cell_type": "code",
   "execution_count": 8,
   "id": "fa7f9aad",
   "metadata": {},
   "outputs": [
    {
     "name": "stdout",
     "output_type": "stream",
     "text": [
      "Adult - 23\n",
      "Adult - 45\n",
      "children - 17\n",
      "Senior - 70\n"
     ]
    }
   ],
   "source": [
    "lists = [23,45,17,70]\n",
    "for age in lists:\n",
    "    if(age<18):\n",
    "       print(\"children -\",age)\n",
    "    elif(age<50):\n",
    "       print(\"Adult -\",age)\n",
    "    else:\n",
    "       print(\"Senior -\",age)"
   ]
  },
  {
   "cell_type": "code",
   "execution_count": null,
   "id": "facd1e4e",
   "metadata": {},
   "outputs": [],
   "source": []
  }
 ],
 "metadata": {
  "kernelspec": {
   "display_name": "Python 3 (ipykernel)",
   "language": "python",
   "name": "python3"
  },
  "language_info": {
   "codemirror_mode": {
    "name": "ipython",
    "version": 3
   },
   "file_extension": ".py",
   "mimetype": "text/x-python",
   "name": "python",
   "nbconvert_exporter": "python",
   "pygments_lexer": "ipython3",
   "version": "3.11.5"
  }
 },
 "nbformat": 4,
 "nbformat_minor": 5
}
