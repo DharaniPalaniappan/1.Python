{
 "cells": [
  {
   "cell_type": "code",
   "execution_count": 1,
   "id": "7b373b75",
   "metadata": {},
   "outputs": [],
   "source": [
    "#syntax\n",
    "if():\n",
    "    print()"
   ]
  },
  {
   "cell_type": "code",
   "execution_count": 1,
   "id": "9020bf3a",
   "metadata": {},
   "outputs": [
    {
     "name": "stdout",
     "output_type": "stream",
     "text": [
      "Enter the age: 18\n",
      "Adult\n"
     ]
    }
   ],
   "source": [
    "age = int(input(\"Enter the age: \" ))\n",
    "if(age==18):\n",
    "    print(\"Adult\")"
   ]
  },
  {
   "cell_type": "code",
   "execution_count": 5,
   "id": "c00317fd",
   "metadata": {},
   "outputs": [
    {
     "name": "stdout",
     "output_type": "stream",
     "text": [
      "Enter the num : -8\n"
     ]
    }
   ],
   "source": [
    "num = int(input(\"Enter the num : \"))\n"
   ]
  },
  {
   "cell_type": "code",
   "execution_count": 6,
   "id": "865d380f",
   "metadata": {},
   "outputs": [
    {
     "name": "stdout",
     "output_type": "stream",
     "text": [
      "Smallest\n"
     ]
    }
   ],
   "source": [
    "#num = int(input(\"Enter the num : \"))\n",
    "if(num>0):\n",
    "    print(\"Largest\")\n",
    "else:\n",
    "    print(\"Smallest\")"
   ]
  },
  {
   "cell_type": "code",
   "execution_count": null,
   "id": "c70ebc55",
   "metadata": {},
   "outputs": [],
   "source": []
  }
 ],
 "metadata": {
  "kernelspec": {
   "display_name": "Python 3 (ipykernel)",
   "language": "python",
   "name": "python3"
  },
  "language_info": {
   "codemirror_mode": {
    "name": "ipython",
    "version": 3
   },
   "file_extension": ".py",
   "mimetype": "text/x-python",
   "name": "python",
   "nbconvert_exporter": "python",
   "pygments_lexer": "ipython3",
   "version": "3.11.5"
  }
 },
 "nbformat": 4,
 "nbformat_minor": 5
}
