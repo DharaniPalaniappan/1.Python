{
 "cells": [
  {
   "cell_type": "code",
   "execution_count": 1,
   "id": "0e7e260a",
   "metadata": {},
   "outputs": [],
   "source": [
    "from Class2func import age"
   ]
  },
  {
   "cell_type": "code",
   "execution_count": 2,
   "id": "db9bb5d6",
   "metadata": {},
   "outputs": [
    {
     "name": "stdout",
     "output_type": "stream",
     "text": [
      "Enter a Gender :M\n",
      "Enter a Age :7\n",
      "Not eligible\n"
     ]
    }
   ],
   "source": [
    "age.Eligible()"
   ]
  },
  {
   "cell_type": "code",
   "execution_count": 3,
   "id": "b2cf5a72",
   "metadata": {},
   "outputs": [
    {
     "name": "stdout",
     "output_type": "stream",
     "text": [
      "Sub-fields in AI are:\n",
      "Machine Learning\n",
      "Neural Networks\n",
      "Vision\n",
      "Robotics\n",
      "Speech Processing\n",
      "Natural Language Processing\n"
     ]
    }
   ],
   "source": [
    "age.SubfieldsInAISubfields()"
   ]
  },
  {
   "cell_type": "code",
   "execution_count": 2,
   "id": "cd4ddf42",
   "metadata": {},
   "outputs": [
    {
     "name": "stdout",
     "output_type": "stream",
     "text": [
      "enter a number :6\n",
      "6  is Even number\n"
     ]
    }
   ],
   "source": [
    "age.OddEven()"
   ]
  },
  {
   "cell_type": "code",
   "execution_count": 2,
   "id": "3d2e8ced",
   "metadata": {},
   "outputs": [
    {
     "name": "stdout",
     "output_type": "stream",
     "text": [
      "Subject1=97\n",
      "Subject2=87\n",
      "Subject3=95\n",
      "Subject4=93\n",
      "Subject5=93\n",
      "Total= 465\n",
      "Percentage= 93.0\n"
     ]
    }
   ],
   "source": [
    "age.percentage()"
   ]
  },
  {
   "cell_type": "code",
   "execution_count": 2,
   "id": "a83d41c8",
   "metadata": {},
   "outputs": [
    {
     "name": "stdout",
     "output_type": "stream",
     "text": [
      "Height:45\n",
      "Breadth:54\n",
      "Area formula: (Height*Breadth)/2\n",
      "Area of Triangle: 1215.0\n",
      "Height1:2\n",
      "Height2:4\n",
      "Breadth:4\n",
      "Perimeter formula: Height1+Height2+Breadth\n",
      "Perimeter of Triangle: 10\n"
     ]
    }
   ],
   "source": [
    "age.triangle()"
   ]
  },
  {
   "cell_type": "code",
   "execution_count": null,
   "id": "61219165",
   "metadata": {},
   "outputs": [],
   "source": []
  }
 ],
 "metadata": {
  "kernelspec": {
   "display_name": "Python 3 (ipykernel)",
   "language": "python",
   "name": "python3"
  },
  "language_info": {
   "codemirror_mode": {
    "name": "ipython",
    "version": 3
   },
   "file_extension": ".py",
   "mimetype": "text/x-python",
   "name": "python",
   "nbconvert_exporter": "python",
   "pygments_lexer": "ipython3",
   "version": "3.11.5"
  }
 },
 "nbformat": 4,
 "nbformat_minor": 5
}
