{
 "cells": [
  {
   "cell_type": "code",
   "execution_count": 3,
   "id": "62566bfe",
   "metadata": {},
   "outputs": [
    {
     "name": "stdout",
     "output_type": "stream",
     "text": [
      "Welcome to Assignment-1\n"
     ]
    }
   ],
   "source": [
    "print(\"Welcome to Assignment-1\")"
   ]
  },
  {
   "cell_type": "code",
   "execution_count": 4,
   "id": "da7e3370",
   "metadata": {},
   "outputs": [
    {
     "name": "stdout",
     "output_type": "stream",
     "text": [
      "num1 =  10\n",
      "num2 =  30\n",
      "Add =  40\n"
     ]
    }
   ],
   "source": [
    "num1 = 10\n",
    "print(\"num1 = \",num1)\n",
    "num2 = 30\n",
    "print(\"num2 = \",num2)\n",
    "print(\"Add = \",num1+num2)\n"
   ]
  },
  {
   "cell_type": "code",
   "execution_count": 9,
   "id": "a21acdec",
   "metadata": {},
   "outputs": [
    {
     "name": "stdout",
     "output_type": "stream",
     "text": [
      "Enter the BMI index:34\n",
      "Very overweight\n"
     ]
    }
   ],
   "source": [
    "#BMI Index\n",
    "BMI = int(input(\"Enter the BMI index:\"))\n",
    "if(BMI<18):\n",
    "    print(\"lean\")\n",
    "elif(BMI<25):\n",
    "    print(\"Normal\")\n",
    "elif(BMI<30):\n",
    "    print(\"Overweight\")\n",
    "else:\n",
    "    print(\"Very overweight\")"
   ]
  },
  {
   "cell_type": "code",
   "execution_count": null,
   "id": "1d55e95c",
   "metadata": {},
   "outputs": [],
   "source": []
  }
 ],
 "metadata": {
  "kernelspec": {
   "display_name": "Python 3 (ipykernel)",
   "language": "python",
   "name": "python3"
  },
  "language_info": {
   "codemirror_mode": {
    "name": "ipython",
    "version": 3
   },
   "file_extension": ".py",
   "mimetype": "text/x-python",
   "name": "python",
   "nbconvert_exporter": "python",
   "pygments_lexer": "ipython3",
   "version": "3.11.5"
  }
 },
 "nbformat": 4,
 "nbformat_minor": 5
}
